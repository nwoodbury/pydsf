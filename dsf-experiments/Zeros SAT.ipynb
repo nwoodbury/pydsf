{
 "metadata": {
  "name": "Zeros SAT"
 },
 "nbformat": 3,
 "nbformat_minor": 0,
 "worksheets": [
  {
   "cells": [
    {
     "cell_type": "code",
     "collapsed": false,
     "input": [
      "import pycosat\n",
      "import itertools"
     ],
     "language": "python",
     "metadata": {},
     "outputs": [],
     "prompt_number": 39
    },
    {
     "cell_type": "heading",
     "level": 1,
     "metadata": {},
     "source": [
      "Experiment Example"
     ]
    },
    {
     "cell_type": "heading",
     "level": 3,
     "metadata": {},
     "source": [
      "Original"
     ]
    },
    {
     "cell_type": "raw",
     "metadata": {},
     "source": [
      "Original State Space:\n",
      "    \n",
      "    At = | 1  0 |\n",
      "         | 0 -1 |\n",
      "        \n",
      "    Bt = | 1  1 |\n",
      "         | 1  1 |\n",
      "         \n",
      "    Ct = | 1  0 |\n",
      "         | 0  1 |\n",
      "         \n",
      "Original DSF:\n",
      "\n",
      "    Qt = | 0  0 |\n",
      "         | 0  0 |\n",
      "         \n",
      "    Pt = |    1       1    |\n",
      "         |   ---     ---   |\n",
      "         |   s-1     s-1   |\n",
      "         |                 |\n",
      "         |    1       1    |\n",
      "         |   ---     ---   |\n",
      "         |   s+1     s+1   |\n",
      "         \n",
      "Original Modes:\n",
      "\n",
      "(l - 1)(l + 1) = 0 ==> l = 1, -1"
     ]
    },
    {
     "cell_type": "heading",
     "level": 3,
     "metadata": {},
     "source": [
      "Stabilization"
     ]
    },
    {
     "cell_type": "raw",
     "metadata": {},
     "source": [
      "Trying to Stabilize with:\n",
      "\n",
      "    A =  | 1    0    a13  a14 |\n",
      "         | 0   -1    a23  a24 |\n",
      "         | a31  a32  a33  a34 |\n",
      "         | a41  a42  a43  a44 |\n",
      "         \n",
      "    B =  | 1    1   |\n",
      "         | 1    1   |\n",
      "         | b31  b32 |\n",
      "         | b33  b34 |\n",
      "         \n",
      "    C =  | 1    0    0    0 |\n",
      "         | 0    1    0    0 |\n",
      "         \n",
      "Conditions:\n",
      "\n",
      "    (1) DSF (Q, P) resulting from (A, B, C) is equal to (Qt, Pt)\n",
      "    (2) Modes introduced by the hidden state are all stable\n",
      "    (3) Mode -1 resulting from the second state does not change"
     ]
    },
    {
     "cell_type": "heading",
     "level": 3,
     "metadata": {},
     "source": [
      "Python Aliases"
     ]
    },
    {
     "cell_type": "raw",
     "metadata": {},
     "source": [
      "Let:\n",
      "\n",
      "    a13 = 1\n",
      "    a14 = 2\n",
      "    a23 = 3\n",
      "    a24 = 4\n",
      "    \n",
      "    a31 = 5 \n",
      "    a32 = 6\n",
      "    a41 = 7\n",
      "    a42 = 8\n",
      "    \n",
      "    a33 = 9\n",
      "    a34 = 10\n",
      "    a43 = 11\n",
      "    a44 = 12\n",
      "    \n",
      "    b31 = 13\n",
      "    b32 = 14\n",
      "    b41 = 15\n",
      "    b42 = 16"
     ]
    },
    {
     "cell_type": "raw",
     "metadata": {},
     "source": [
      "Note, from here on, when a44 = True for any boolean logic, then a44 = 0. \n",
      "\n",
      "V = or\n",
      "^ = and"
     ]
    },
    {
     "cell_type": "heading",
     "level": 2,
     "metadata": {},
     "source": [
      "Step 1: Compute (Q, P) symbolically"
     ]
    },
    {
     "cell_type": "raw",
     "metadata": {},
     "source": [
      "We have that\n",
      "\n",
      "    W = | 1  0 | + | a13  a14 | * | s-a33  -a34 | * |  a31  a32 |\n",
      "        | 0 -1 |   | a23  a24 |   |  -a43 s-a44 |   |  a41  a42 |\n",
      "        \n",
      "      = | 1  0 | + | a13(s-a33) - a14*a43    a14(s-a44) - a13*a34 | * |  a31  a32 |\n",
      "        | 0 -1 |   | a23(s-a33) - a24*a43    a24(s-a44) - a23*a34 |   |  a41  a42 |\n",
      "        \n",
      "      = | a13*a31(s-a33) + a14*a41(s-a44) - (a14*a43*a31+a13*a34*a41-1)    a13*a32(s-a33) + a14*a42(s-a44) - (a14*a43*a32+a13*a34*a42) |\n",
      "        | a23*a31(s-a33) + a24*a41(s-a44) - (a24*a43*a31+a23*a34*a41)    a23*a32(s-a33) + a24*a42(s-a44) - (a24*a43*a32+a23*a34*a42+1) |\n",
      "\n",
      "Let:\n",
      "\n",
      "    x11 = a13*a31\n",
      "    x12 = a14*a41\n",
      "    x13 = -(a14*a43*a31 + a13*a34*a41 - 1)\n",
      "    x21 = a13*a32\n",
      "    x22 = a14*a42\n",
      "    x23 = -(a14*a43*a32 + a13*a34*a42)\n",
      "    x31 = a23*a31\n",
      "    x32 = a24*a41\n",
      "    x33 = -(a24*a43*a31 + a23*a34*a41)\n",
      "    x41 = a23*a32\n",
      "    x42 = a24*a42\n",
      "    x43 = -(a24*a43*a32 + a23*a34*a42 + 1)\n",
      "    \n",
      "Then\n",
      "\n",
      "    W = | x11(s-a33) + x12(s-a44) + x13    x21(s-a33) + x22(s-a44) + x23 |\n",
      "        | x31(s-a33) + x32(s-a44) + x33    x41(s-a33) + x42(s-a44) + x43 |\n",
      "        \n",
      "    D = | x11(s-a33) + x12(s-a44) + x13                   0              | = | d11  0  |\n",
      "        |                0                 x41(s-a33) + x42(s-a44) + x43 |   |  0  d22 |\n",
      "        \n",
      "    \n",
      "    (sI - D)^-1 = |     1            |\n",
      "                  |    ---     0     |\n",
      "                  |    d11           |\n",
      "                  |                  |\n",
      "                  |            1     |\n",
      "                  |     0     ---    |\n",
      "                  |           d22    |\n",
      "                  \n",
      "    (W - D) = |                0                 x21(s-a33) + x22(s-a44) + x23 | = |   0    wd21 |\n",
      "              | x31(s-a33) + x32(s-a44) + x33                   0              |   | wd12     0  |\n",
      "              \n",
      "    Q = (sI - D)^-1 * (W - D) = |          wd21   |\n",
      "                                |    0     ----   |\n",
      "                                |          d11    |\n",
      "                                |                 |\n",
      "                                |   wd12          |\n",
      "                                |   ----     0    |\n",
      "                                |   d22           |\n",
      "                                \n",
      "And\n",
      "\n",
      "    V = | 1  0 | + | a13  a14 | * | s-a33  -a34 | * |  b31  b32 |\n",
      "        | 0 -1 |   | a23  a24 |   |  -a43 s-a44 |   |  b41  b42 |\n",
      "        \n",
      "      = | 1  0 | + | a13(s-a33) - a14*a43    a14(s-a44) - a13*a34 | * |  b31  b32 |\n",
      "        | 0 -1 |   | a23(s-a33) - a24*a43    a24(s-a44) - a23*a34 |   |  b41  b42 |\n",
      "        \n",
      "      = | a13*b31(s-a33) + a14*b41(s-a44) - (a14*a43*b31+a13*a34*b41-1)    a13*b32(s-a33) + a14*b42(s-a44) - (a14*a43*b32+a13*a34*b42) |\n",
      "        | a23*b31(s-a33) + a24*b41(s-a44) - (a24*a43*b31+a23*a34*b41)    a23*b32(s-a33) + a24*b42(s-a44) - (a24*a43*b32+a23*a34*b42+1) |\n",
      "        \n",
      "Let:\n",
      "\n",
      "    y11 = a13*b31\n",
      "    y12 = a14*b41\n",
      "    y13 = -(a14*a43*b31 + a13*a34*b41 - 1)\n",
      "    y21 = a13*b32\n",
      "    y22 = a14*b42\n",
      "    y23 = -(a14*a43*b32 + a13*a34*b42)\n",
      "    y31 = a23*b31\n",
      "    y32 = a24*b41\n",
      "    y33 = -(a24*a43*b31 + a23*a34*b41)\n",
      "    y41 = a23*b32\n",
      "    y42 = a24*b42\n",
      "    y43 = -(a24*a43*b32 + a23*a34*b42 + 1)\n",
      "    \n",
      "Then\n",
      "\n",
      "    V = | y11(s-a33) + y12(s-a44) + y13    y21(s-a33) + y22(s-a44) + y23 | = | v11  v12 |\n",
      "        | y31(s-a33) + y32(s-a44) + y33    y41(s-a33) + y42(s-a44) + y43 |   | v21  v22 |\n",
      " \n",
      "    P = (sI - D)^-1 * V = |   v11    v12   |\n",
      "                          |   ---    ---   |\n",
      "                          |   d11    d11   |\n",
      "                          |                |\n",
      "                          |   v21    v22   |\n",
      "                          |   ---    ---   |\n",
      "                          |   d22    d22   |"
     ]
    },
    {
     "cell_type": "heading",
     "level": 2,
     "metadata": {},
     "source": [
      "Step 2: Constrain denominators and the numerators of P to equal Pt"
     ]
    },
    {
     "cell_type": "raw",
     "metadata": {},
     "source": [
      "v11 = v12 = v21 = v22 = 1\n",
      "d11 = s - 1\n",
      "d22 = s + 1"
     ]
    },
    {
     "cell_type": "heading",
     "level": 4,
     "metadata": {},
     "source": [
      "Constraining d11"
     ]
    },
    {
     "cell_type": "raw",
     "metadata": {},
     "source": [
      "d11 = "
     ]
    },
    {
     "cell_type": "code",
     "collapsed": false,
     "input": [
      "cnf_pden = [[1, 5],\n",
      "            [2, 7],\n",
      "            [2, 5, 11],\n",
      "            [1, 10, 7],\n",
      "            [3, 6],\n",
      "            [4, 8],\n",
      "            [4, 5, 11],\n",
      "            [3, 10, 7]] # From the denominator of P\n",
      "\n",
      "print_cnf_solutions(cnf_pden)"
     ],
     "language": "python",
     "metadata": {},
     "outputs": [
      {
       "output_type": "stream",
       "stream": "stdout",
       "text": [
        "------------------------------\n",
        "530 Solutions Found (top 5 shown): \n",
        "\n",
        "[1, 2, 3, 4, 5, 6, 7, 8, -9, 10, 11]\n",
        "[1, 2, 3, 4, 5, 6, 7, 8, -9, 10, -11]\n",
        "[1, 2, 3, 4, 5, 6, 7, 8, -9, -10, 11]\n",
        "[1, 2, 3, 4, 5, 6, 7, 8, -9, -10, -11]\n",
        "[1, 2, 3, 4, 5, 6, 7, 8, 9, -10, 11]\n"
       ]
      }
     ],
     "prompt_number": 92
    },
    {
     "cell_type": "heading",
     "level": 1,
     "metadata": {},
     "source": [
      "Utilities"
     ]
    },
    {
     "cell_type": "code",
     "collapsed": false,
     "input": [
      "def get_free_variables(cnf):\n",
      "    cnf_flat = [item for sublist in cnf for item in sublist]\n",
      "    all_variables = arange(1,17)\n",
      "    return [item for item in all_variables if item not in cnf_flat]\n",
      "\n",
      "def print_cnf_solutions(cnf, free_flag=0, max_to_show=5):\n",
      "    addendum_logic = []\n",
      "    \n",
      "    if free_flag == 1:\n",
      "        addendum_logic = [[int(item)] for item in get_free_variables(cnf)]\n",
      "    if free_flag == -1:\n",
      "        addendum_logic = [[-int(item)] for item in get_free_variables(cnf)]\n",
      "    \n",
      "    cnf_merged = cnf + addendum_logic\n",
      "    \n",
      "    solutions = list(pycosat.itersolve(cnf_merged))\n",
      "    num_solutions = len(solutions)\n",
      "    \n",
      "    shown_msg = ''\n",
      "    if max_to_show > 0 and num_solutions > max_to_show:\n",
      "        shown_msg = ' (top %s shown)' % max_to_show\n",
      "        solutions = solutions[0:max_to_show]\n",
      "                    \n",
      "    print '------------------------------'\n",
      "    print '%s Solutions Found%s: \\n' % (num_solutions, shown_msg)    \n",
      "    \n",
      "    for solution in solutions:\n",
      "        print solution"
     ],
     "language": "python",
     "metadata": {},
     "outputs": [],
     "prompt_number": 87
    },
    {
     "cell_type": "code",
     "collapsed": false,
     "input": [],
     "language": "python",
     "metadata": {},
     "outputs": []
    }
   ],
   "metadata": {}
  }
 ]
}